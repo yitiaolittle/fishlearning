{
 "cells": [
  {
   "cell_type": "code",
   "execution_count": 1,
   "id": "7d79877e-e2b5-4ec2-a4a3-d9793caee1ef",
   "metadata": {},
   "outputs": [],
   "source": [
    "12.1. 编译器和解释器\n",
    "- 考虑另一种选择符号式编程（symbolic programming），即代码通常只在完全定义了过程之后才执行计算。这个策略被多个深度学习框架使用，包括Theano和TensorFlow（后者已经获得了命令式编程的扩展）。一般包括以下步骤：\n",
    "\n",
    "-定义计算流程；\n",
    "\n",
    "-将流程编译成可执行的程序；\n",
    "\n",
    "给定输入，调用编译好的程序执行。"
   ]
  },
  {
   "cell_type": "code",
   "execution_count": null,
   "id": "05397dd8-708c-4b0c-a3ad-8e8a3d007bb4",
   "metadata": {},
   "outputs": [],
   "source": []
  },
  {
   "cell_type": "markdown",
   "id": "6be7ed06-4b55-4335-9ab3-a9e808eb12de",
   "metadata": {},
   "source": [
    "## 网络结构"
   ]
  },
  {
   "cell_type": "code",
   "execution_count": 3,
   "id": "4039872c-695e-42f0-af0a-c73d5bbf1b39",
   "metadata": {},
   "outputs": [],
   "source": []
  },
  {
   "cell_type": "code",
   "execution_count": 4,
   "id": "4b7ca630-f621-411b-a379-a6820de85bdc",
   "metadata": {},
   "outputs": [
    {
     "data": {
      "text/plain": [
       "tensor([0.0000, 0.0318, 0.0000, 0.1356, 0.0000, 0.0000, 0.0375, 0.0000, 0.0000,\n",
       "        0.0205], grad_fn=<ReluBackward0>)"
      ]
     },
     "execution_count": 4,
     "metadata": {},
     "output_type": "execute_result"
    }
   ],
   "source": []
  },
  {
   "cell_type": "code",
   "execution_count": null,
   "id": "fbca83c6-c405-45c3-980c-fbaedca8749c",
   "metadata": {},
   "outputs": [],
   "source": []
  }
 ],
 "metadata": {
  "kernelspec": {
   "display_name": "Python 3 (ipykernel)",
   "language": "python",
   "name": "python3"
  },
  "language_info": {
   "codemirror_mode": {
    "name": "ipython",
    "version": 3
   },
   "file_extension": ".py",
   "mimetype": "text/x-python",
   "name": "python",
   "nbconvert_exporter": "python",
   "pygments_lexer": "ipython3",
   "version": "3.9.13"
  }
 },
 "nbformat": 4,
 "nbformat_minor": 5
}
