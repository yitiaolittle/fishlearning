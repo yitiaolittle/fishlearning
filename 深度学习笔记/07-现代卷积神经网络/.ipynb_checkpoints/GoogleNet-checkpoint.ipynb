{
 "cells": [
  {
   "cell_type": "code",
   "execution_count": 1,
   "id": "7d68c8fe-6909-47d3-aa6d-a7f8d91ae8e8",
   "metadata": {},
   "outputs": [],
   "source": [
    "import torch\n",
    "from torch import nn, optim\n",
    "import torch.nn.functional as F"
   ]
  },
  {
   "cell_type": "markdown",
   "id": "63e29473-4b10-4b0e-8d4f-6c104874be64",
   "metadata": {},
   "source": [
    "## 网络结构"
   ]
  },
  {
   "cell_type": "code",
   "execution_count": 2,
   "id": "4a6c9475-c31b-4471-9831-40d4e9b6539e",
   "metadata": {},
   "outputs": [],
   "source": [
    "class Inception(nn.Module):\n",
    "    def __init__(self, in_c, c1, c2, c3, c4):\n",
    "        super(Inception, self).__init__()\n",
    "        self.p1_1 = nn.Conv2d(in_c, c1, kernel_size=1)\n",
    "        self.p2_1 = nn.Conv2d(in_c, c2[0], kernel_size=1)\n",
    "        self.p2_2 = nn.Conv2d(c2[0], c2[1], kernel_size=3, padding=1)\n",
    "        self.p3_1 = nn.Conv2d(in_c, c3[0], kernel_size=1)\n",
    "        self.p3_2 = nn.Conv2d(c3[0], c3[1], kernel_size=5, padding=2)\n",
    "        self.p4_1 = nn.MaxPool2d(kernel_size=3, stride=1, padding=1)\n",
    "        self.p4_2 = nn.Conv2d(in_c, c4, kernel_size=1)\n",
    " \n",
    "    def forward(self, x):\n",
    "        p1 = F.relu(self.p1_1(x))\n",
    "        p2 = F.relu(self.p2_2(F.relu(self.p2_1(x))))\n",
    "        p3 = F.relu(self.p3_2(F.relu(self.p3_1(x))))\n",
    "        p4 = F.relu(self.p4_2(self.p4_1(x)))\n",
    "        return torch.cat((p1, p2, p3, p4), dim=1) "
   ]
  },
  {
   "cell_type": "code",
   "execution_count": 3,
   "id": "0e63e56b-df79-4139-8c05-ed31f0b29bde",
   "metadata": {},
   "outputs": [],
   "source": [
    "class GlobalAvgPool2d(nn.Module):\n",
    "    def __init__(self):\n",
    "        super(GlobalAvgPool2d, self).__init__()\n",
    "\n",
    "    def forward(self, x):\n",
    "        return F.avg_pool2d(x, kernel_size=7)\n",
    "    \n",
    "class FlattenLayer(torch.nn.Module):\n",
    "    def __init__(self):\n",
    "        super(FlattenLayer, self).__init__()\n",
    "    def forward(self, x): \n",
    "        return x.view(x.shape[0], -1)"
   ]
  },
  {
   "cell_type": "code",
   "execution_count": 4,
   "id": "05589d4f-9f7d-4306-bd7f-c376a6919d24",
   "metadata": {},
   "outputs": [],
   "source": [
    "class GoogLeNet(nn.Module):\n",
    "    def __init__(self, num_classes=1000):\n",
    "        super(GoogLeNet, self).__init__()\n",
    "        \n",
    "        self.b1 = nn.Sequential(nn.Conv2d(3, 32, kernel_size=7, stride=2, padding=3),\n",
    "                           nn.ReLU(),\n",
    "                           nn.MaxPool2d(kernel_size=3, stride=2, padding=1))\n",
    "\n",
    "        self.b2 = nn.Sequential(nn.Conv2d(32, 64, kernel_size=1),\n",
    "                           nn.Conv2d(64, 128, kernel_size=3, padding=1),\n",
    "                           nn.MaxPool2d(kernel_size=3, stride=2, padding=1))\n",
    "\n",
    "        self.b3 = nn.Sequential(Inception(128, 64, (64, 64), (64, 64), 64),\n",
    "                           Inception(256, 64, (64, 64), (64, 64), 64),\n",
    "                           Inception(256, 64, (64, 64), (64, 64), 64),\n",
    "                           GlobalAvgPool2d())\n",
    "\n",
    "        self.output=nn.Sequential(FlattenLayer(),\n",
    "                                  nn.Dropout(p=0.4),\n",
    "                                  nn.Linear(4096, 10))\n",
    "\n",
    "    def forward(self, x):\n",
    "        x = self.b1(x)\n",
    "        print(x.shape)\n",
    "        x = self.b2(x)\n",
    "        print(x.shape)\n",
    "        x = self.b3(x)\n",
    "        print(x.shape)\n",
    "        x = self.output(x)\n",
    "        print(x.shape)\n",
    "\n",
    "        return x"
   ]
  },
  {
   "cell_type": "code",
   "execution_count": 5,
   "id": "a0c875b3-1193-49e2-b937-1c10ccd97149",
   "metadata": {},
   "outputs": [
    {
     "name": "stdout",
     "output_type": "stream",
     "text": [
      "torch.Size([1, 32, 56, 56])\n",
      "torch.Size([1, 128, 28, 28])\n",
      "torch.Size([1, 256, 4, 4])\n",
      "torch.Size([1, 10])\n"
     ]
    },
    {
     "data": {
      "text/plain": [
       "tensor([[-0.0237, -0.0036,  0.0089, -0.0201,  0.0020, -0.0241,  0.0231,  0.0169,\n",
       "          0.0124, -0.0219]], grad_fn=<AddmmBackward0>)"
      ]
     },
     "execution_count": 5,
     "metadata": {},
     "output_type": "execute_result"
    }
   ],
   "source": [
    "gnet = GoogLeNet()\n",
    "x = torch.rand(1, 3, 224, 224)\n",
    "# for blk in gnet.children(): \n",
    "#     x = blk(x)\n",
    "#     print('output shape: ', x.shape)\n",
    "gnet(x)"
   ]
  },
  {
   "cell_type": "code",
   "execution_count": null,
   "id": "891ebb86-b17a-47b1-bc49-2f4eebd4eb25",
   "metadata": {},
   "outputs": [],
   "source": []
  }
 ],
 "metadata": {
  "kernelspec": {
   "display_name": "Python 3 (ipykernel)",
   "language": "python",
   "name": "python3"
  },
  "language_info": {
   "codemirror_mode": {
    "name": "ipython",
    "version": 3
   },
   "file_extension": ".py",
   "mimetype": "text/x-python",
   "name": "python",
   "nbconvert_exporter": "python",
   "pygments_lexer": "ipython3",
   "version": "3.9.13"
  }
 },
 "nbformat": 4,
 "nbformat_minor": 5
}
