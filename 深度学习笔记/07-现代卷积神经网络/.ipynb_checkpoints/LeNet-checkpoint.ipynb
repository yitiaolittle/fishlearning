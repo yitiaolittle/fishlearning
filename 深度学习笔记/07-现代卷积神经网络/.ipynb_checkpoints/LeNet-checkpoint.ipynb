{
 "cells": [
  {
   "cell_type": "code",
   "execution_count": 1,
   "id": "7d79877e-e2b5-4ec2-a4a3-d9793caee1ef",
   "metadata": {},
   "outputs": [],
   "source": [
    "import torch\n",
    "import torch.nn as nn\n",
    "import torch.nn.functional as F\n",
    "import numpy as np"
   ]
  },
  {
   "cell_type": "code",
   "execution_count": null,
   "id": "05397dd8-708c-4b0c-a3ad-8e8a3d007bb4",
   "metadata": {},
   "outputs": [],
   "source": [
    "data = np.load('Matplotlib_Test\\mnist.npy', allow_pickle=True)"
   ]
  },
  {
   "cell_type": "markdown",
   "id": "6be7ed06-4b55-4335-9ab3-a9e808eb12de",
   "metadata": {},
   "source": [
    "## 网络结构"
   ]
  },
  {
   "cell_type": "code",
   "execution_count": 3,
   "id": "4039872c-695e-42f0-af0a-c73d5bbf1b39",
   "metadata": {},
   "outputs": [],
   "source": [
    "class LeNet(nn.Module):\n",
    "    def __init__(self):\n",
    "        super(LeNet, self).__init__()\n",
    "        self.conv1 = nn.Conv2d(1, 6, 5)\n",
    "        self.conv2 = nn.Conv2d(6, 16, 5)\n",
    "        self.pool = nn.MaxPool2d(2)\n",
    "        self.f1 = nn.Linear(400, 120)\n",
    "        self.f2 = nn.Linear(120, 84)\n",
    "        self.f3 = nn.Linear(84, 10)\n",
    "\n",
    "    def forward(self, x):\n",
    "        x = self.conv1(x)\n",
    "        x = self.pool(x)\n",
    "        x = self.conv2(x)\n",
    "        x = self.pool(x)\n",
    "        x = x.reshape(400)\n",
    "        x = nn.functional.relu(self.f1(x))\n",
    "        x = nn.functional.relu(self.f2(x))\n",
    "        x = nn.functional.relu(self.f3(x))\n",
    "\n",
    "        return F.relu(x)"
   ]
  },
  {
   "cell_type": "code",
   "execution_count": 4,
   "id": "4b7ca630-f621-411b-a379-a6820de85bdc",
   "metadata": {},
   "outputs": [
    {
     "data": {
      "text/plain": [
       "tensor([0.0000, 0.0318, 0.0000, 0.1356, 0.0000, 0.0000, 0.0375, 0.0000, 0.0000,\n",
       "        0.0205], grad_fn=<ReluBackward0>)"
      ]
     },
     "execution_count": 4,
     "metadata": {},
     "output_type": "execute_result"
    }
   ],
   "source": [
    "a = np.random.randn(32, 32)\n",
    "a = a.reshape(1, 32, 32)\n",
    "a = torch.tensor(a, dtype = torch.float)\n",
    "net = LeNet()\n",
    "b = net(a)\n",
    "b"
   ]
  },
  {
   "cell_type": "code",
   "execution_count": null,
   "id": "fbca83c6-c405-45c3-980c-fbaedca8749c",
   "metadata": {},
   "outputs": [],
   "source": []
  }
 ],
 "metadata": {
  "kernelspec": {
   "display_name": "Python 3 (ipykernel)",
   "language": "python",
   "name": "python3"
  },
  "language_info": {
   "codemirror_mode": {
    "name": "ipython",
    "version": 3
   },
   "file_extension": ".py",
   "mimetype": "text/x-python",
   "name": "python",
   "nbconvert_exporter": "python",
   "pygments_lexer": "ipython3",
   "version": "3.9.13"
  }
 },
 "nbformat": 4,
 "nbformat_minor": 5
}
